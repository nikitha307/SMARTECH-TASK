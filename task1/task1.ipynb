import matplotlib.pyplot as plt
from scipy import stats
Hours=[2.5,5.1,3.2,8.5,3.5,1.5,9.2,5.5,8.3,2.7,7.7,5.9,4.5,3.3,1.1,8.9,2.5,1.9,6.1,7.4,2.7,4.8,3.8,6.9,7.8,]
Scores=[21,47,27,75,30,20,88,60,81,25,85,62,41,42,17,95,30,24,67,69,30,54,35,76,86]

slope,intercept,r,p,std_err=stats.linregress(Hours,Scores)
print("r=",r)
def myfunc (Hours):
    return slope*Hours+intercept
mymodel=list(map(myfunc,Hours))
rerror= 0
error= 0
for i in range (len(Scores)):
    rerror += (Scores[i]-mymodel[i])
    error += pow((Scores[i]-mymodel[i]),2)
print("residual error:",rerror/len(Scores))
print("mean error:",error/len(Scores))
plt.scatter(Hours,Scores)
plt.plot(Hours,mymodel)
plt.show()
